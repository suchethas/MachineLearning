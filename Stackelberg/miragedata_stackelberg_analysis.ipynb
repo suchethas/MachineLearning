{
 "cells": [
  {
   "cell_type": "code",
   "execution_count": 1,
   "metadata": {
    "collapsed": true
   },
   "outputs": [],
   "source": [
    "import pandas as pd\n",
    "import numpy as np\n",
    "import matplotlib.pyplot as plt\n",
    "import seaborn as sns\n",
    "from ipywidgets import interact, widgets, fixed\n",
    "import random"
   ]
  },
  {
   "cell_type": "code",
   "execution_count": 2,
   "metadata": {
    "collapsed": true
   },
   "outputs": [],
   "source": [
    "def incentivize(x,f,mu):\n",
    "    f_sorted = np.argsort(f)  # descending\n",
    "    ind_incentivize = np.abs((1-x)*f - mu)< 10**-3\n",
    "    for i in f_sorted:\n",
    "        if i in ind_incentivize:\n",
    "            x-=10**-6\n",
    "    return np.maximum(x,0)\n",
    "\n",
    "def defender(f,C_def,Eps):\n",
    "    # Defender problem\n",
    "    n=len(f)\n",
    "    mu = np.max(f)-C_def/n\n",
    "    C_temp = sum(np.maximum(f-mu, 0 ) )\n",
    "    while C_def - C_temp > Eps:\n",
    "        mu = mu - (C_def-C_temp)/n\n",
    "        C_temp = sum(np.maximum(f-mu, 0 ) )\n",
    "    mu = max(mu,0)\n",
    "      \n",
    "    x = np.minimum(np.maximum(1-mu/f,0), 1)\n",
    "    x = incentivize(x,f,mu)\n",
    "    \n",
    "    return x, mu\n",
    "\n",
    "\n",
    "def attacker(f,C_att,x):\n",
    "    #attacker problem\n",
    "    n=len(f)\n",
    "    sigma = np.argsort((1-x)*f)  # descending\n",
    "    y = np.zeros(n)\n",
    "    C_temp = C_att\n",
    "    i=n-1\n",
    "    while C_temp >0:\n",
    "        s = sigma[i]\n",
    "        y[s] = np.minimum(1,C_temp/f[s])\n",
    "        C_temp = C_temp-y[s]*f[s]\n",
    "        i-=1       \n",
    "    return y\n",
    "\n",
    "\n",
    "\n",
    "def solve_game(f, C_def, C_att, Eps, verbose=True):\n",
    "    \n",
    "    x, mu = defender(f,C_def,Eps)\n",
    "    y = attacker(f,C_att,x)\n",
    "    U_def  = np.sum(x*f*y)\n",
    "    U_att  = np.sum((1-x)*f*y)\n",
    "    if verbose:\n",
    "        with np.printoptions(precision=4, suppress=True):    \n",
    "            print('Defender Strategy: ',x)\n",
    "            print('\\t - Water line: ',mu)\n",
    "            print('\\t - f_i(1-x_i):', f*(1-x))\n",
    "            print('Attacker Strategy:', y)\n",
    "            print(' ')\n",
    "            print('Defender Utility:', U_def)\n",
    "            print('Attacker Utility:', U_att)\n",
    "\n",
    "\n",
    "        # plot defender strategy\n",
    "        fig,ax = plt.subplots()\n",
    "        sns.set()\n",
    "\n",
    "        account = np.arange(1,len(f)+1)\n",
    "        flow = f\n",
    "\n",
    "        width = 0.75\n",
    "        ax = fig.add_axes([0,0,1.5,1.5])\n",
    "        #ax.bar(account,flow)\n",
    "\n",
    "\n",
    "        plt.bar(account,flow, width=width, color ='lightsteelblue')\n",
    "        mask = (flow >= mu -1e-6)\n",
    "        plt.bar( account[mask] , flow[mask]-mu , width=width , bottom= [mu]*sum(mask) , color='rosybrown')\n",
    "\n",
    "        # clrs = ['rosybrown' if (F >= np.floor(mu)) else 'lightsteelblue' for F in flow ]\n",
    "        # plt.bar(account,flow, color=clrs, hatch=\"/\")\n",
    "\n",
    "\n",
    "        xmin, xmax, ymin, ymax = plt.axis()\n",
    "        plt.hlines(mu,xmin-0.2,xmax, colors = 'maroon', linewidths=3, linestyles='dashed')\n",
    "        plt.xlabel('Account',fontsize=14)\n",
    "        plt.ylabel('Account Flow', fontsize=14)\n",
    "        plt.xticks(account,  fontsize=14)\n",
    "        plt.yticks(fontsize=14)\n",
    "        plt.title('Illustration of defender\\'s optimal strategy $\\{x_i\\}$', fontsize=14)\n",
    "        ax.yaxis.grid(True) \n",
    "        ax.xaxis.grid(False)  \n",
    "\n",
    "\n",
    "        plt.text(xmin-0.2, mu+0.2, f'$\\mu$={mu:1.1f}',  fontsize=14, color = 'maroon', weight='bold')\n",
    "\n",
    "        for i in range(len(flow)):\n",
    "            plt.text(account[i]-width/4, flow[i]+0.1,  f'$f_{i+1}$={f[i]:1.1f}',  fontsize=14, color = 'k')\n",
    "            #plt.text(account[i]-width/2, min(flow)/2,  f'$(1-x_{i+1})$ $f_{i+1}$ ={(1-x[i])*f[i]:1.1f}',  fontsize=14, color = 'k')\n",
    "            plt.text(account[i]-width/4, 0.75,  f'$y_{i+1}$ ={y[i]:1.1f}',  fontsize=14, color = 'k')\n",
    "            if flow[i]>mu:\n",
    "                plt.text(account[i]-width/3, mu+(flow[i]-mu)/2 , f'$x_{i+1}$ $f_{i+1}$ ={x[i]*f[i]:1.1f}',  fontsize=14, color = 'k')    \n",
    "\n",
    "\n",
    "\n",
    "\n",
    "        textstr = '\\n'.join([f' x_{i+1} = {x[i]:1.1f} ' for i in range(len(flow))])\n",
    "        props = dict(boxstyle='round', facecolor='wheat', alpha=0.7)\n",
    "        # place a text box in upper left in axes coords\n",
    "        ax.text(0.05, 0.95, textstr, transform=ax.transAxes, fontsize=14,\n",
    "                verticalalignment='top', bbox=props)\n",
    "\n",
    "\n",
    "        plt.show()   \n",
    "\n",
    "    return x,y,U_def,U_att,mu"
   ]
  },
  {
   "cell_type": "code",
   "execution_count": 3,
   "metadata": {
    "collapsed": true,
    "scrolled": false
   },
   "outputs": [],
   "source": [
    "df_mirage = pd.read_csv(\"mirage_data_10.csv\",header=0,skip_blank_lines=True, skipinitialspace=True)\n",
    "df_mirage['Label_new'] = 0\n",
    "\n",
    "   \n",
    "\n",
    "def get_dataframe(column, choice, C_defense, start, end):\n",
    "    random.seed(7) \n",
    "    \n",
    "    n = 10\n",
    "    df_mirage = pd.read_csv(\"mirage_data_10.csv\",header=0,skip_blank_lines=True, skipinitialspace=True)\n",
    "    accounts_to_attack = []\n",
    "    if choice == \"A\":\n",
    "        print(\"Strategy A: Attacker picks transactions from accounts with highest flows\")\n",
    "        accounts_to_attack = df_mirage.groupby([\"Sender_Id\"]).size().to_frame('count').reset_index().sort_values(\"count\", ascending=False)[\"Sender_Id\"].head(n).tolist()\n",
    "        df_mirage.loc[df_mirage[df_mirage[\"Sender_Id\"].isin(accounts_to_attack)].sample(len(df_mirage[df_mirage[\"Label\"]==1]), random_state=10).index.values, \"Label_new\"]=1\n",
    "    elif choice == \"B\":\n",
    "        print(\"Strategy B: Attacker picks transactions from accounts randomly\")\n",
    "        for i in range(n):\n",
    "            accounts_to_attack.append(random.randint(1,30))\n",
    "        df_mirage.loc[df_mirage[df_mirage[\"Sender_Id\"].isin(accounts_to_attack)].sample(len(df_mirage[df_mirage[\"Label\"]==1]), random_state=10).index.values, \"Label_new\"]=1\n",
    "    elif choice == \"C\":\n",
    "        print(\"Strategy C: Attacker picks transactions uniformly at random\")\n",
    "        df_mirage.loc[df_mirage.sample(len(df_mirage[df_mirage[\"Label\"]==1]), random_state=10).index.values, \"Label_new\"]=1\n",
    "    elif choice == \"D\":\n",
    "        print(\"Strategy D: Attacker picks transactions from accounts with lowest flows\")\n",
    "        df_mirage['Label_new'] = df_mirage['Label']\n",
    "    \n",
    "    print(\"\\n\")\n",
    "    \n",
    "    temp_df = df_mirage[(df_mirage[\"Time_Step\"] >= start) & (df_mirage[\"Time_Step\"] <= end) ] \n",
    "    temp_df_flow = temp_df.groupby([\"Sender_Id\"]).size().to_frame('count').reset_index()\n",
    "    \n",
    "    # f is the flows which is outgoing edges for each client\n",
    "    f = temp_df_flow['count'].tolist()\n",
    "    C_def = int(temp_df_flow['count'].sum()*C_defense)\n",
    "    C_att = len(temp_df[temp_df[\"Label_new\"]==1])\n",
    "    \n",
    "    print(\"Total no. of transactions: {}\".format(sum(f)))\n",
    "    print(\"Defender Capacity: {}\".format(C_def))\n",
    "    print(\"Attacker Capacity: {}\".format(C_att))\n",
    "    print(\"\\n\")\n",
    "    \n",
    "    c = [\"b\"] * len(temp_df.groupby(\"Sender_Id\").groups.keys())\n",
    "    for i in list(temp_df[temp_df[\"Label_new\"]==1].groupby(\"Sender_Id\").groups):\n",
    "        c[i-1] = 'r'\n",
    "    \n",
    "    \n",
    "    fruad_account_id = list(temp_df[temp_df[\"Label_new\"]==1].groupby(\"Sender_Id\").groups)\n",
    "    fraud_account_id_count = temp_df_flow[temp_df_flow[\"Sender_Id\"].isin(fruad_account_id)][\"count\"].tolist()\n",
    "    \n",
    "    plt.figure(figsize=(20,10))\n",
    "    plt.bar(temp_df_flow[\"Sender_Id\"].tolist(), temp_df_flow[\"count\"].tolist(), color=(0.1, 0.1, 0.1, 0.1), edgecolor=c, label=\"Account Flows - Not Attacked\")\n",
    "    plt.bar(fruad_account_id, fraud_account_id_count, color=(0.1, 0.1, 0.1, 0.1), edgecolor='r', label=\"Account Flows - Attacked\")\n",
    "    plt.title(\"Flow distribution\", fontsize=20)\n",
    "    plt.xlabel(\"Accounts\", fontsize=20)\n",
    "    plt.ylabel(\"Account Flows\", fontsize=20)\n",
    "    plt.xticks(fontsize=20)\n",
    "    plt.yticks(fontsize=20)\n",
    "    \n",
    "\n",
    "    \n",
    "    Eps = 10**-10\n",
    "\n",
    "\n",
    "    x, y, U_def, U_att, mu = solve_game(f, C_def, C_att, Eps, verbose=False)\n",
    "    \n",
    "    print(\"Defender Strategy:\")\n",
    "    print(f*x)\n",
    "    \n",
    "\n",
    "    \n",
    "    \n",
    "    fraud_actual_count = []\n",
    "    fraud_caught_count = [] \n",
    "    \n",
    "    fraud_caught_count_2 = []# proportional sample random\n",
    "    \n",
    "    # Uniformly Sampling\n",
    "    df_inspect_1 = temp_df.sample(n=C_def, random_state=7)\n",
    "    fraud_caught_count_1 = len(df_inspect_1[df_inspect_1[\"Label_new\"]==1]) #uniformly random\n",
    "    \n",
    "    for i in range(len(f)):\n",
    "        # All transactions for client 1 to 30\n",
    "        df_sub = temp_df[temp_df[\"Sender_Id\"]==i+1]\n",
    "\n",
    "        # Randomly sample from all transactions for client i=1 to 30 as per x*f\n",
    "        df_inspect = df_sub.sample(n=int(round((f*x)[i])), random_state=7)\n",
    "        \n",
    "        # Proportional sampling\n",
    "        z = [int(np.floor((i / sum(f))*temp_df_flow['count'].sum()*C_defense)) for i in f]\n",
    "        #print(temp_df_flow['count'].sum()*C_defense)\n",
    "        #print(sum(z))\n",
    "        df_inspect_2 = df_sub.sample(n=z[i], random_state=7)\n",
    "        \n",
    "        \n",
    "        fraud_actual_count.append(len(df_sub[df_sub[\"Label_new\"]==1]))\n",
    "        fraud_caught_count.append(len(df_inspect[df_inspect[\"Label_new\"]==1]))\n",
    "        fraud_caught_count_2.append(len(df_inspect_2[df_inspect_2[\"Label_new\"]==1]))\n",
    "        \n",
    "    print(\"\\n\")\n",
    "    print(\"Fraud caught when operator inspects transactions:\")\n",
    "    print(\"\\t - from accounts as defined by the stackelberg game: {}/{}, {:.2f}%\".format(sum(fraud_caught_count), sum(fraud_actual_count), (sum(fraud_caught_count)/sum(fraud_actual_count))*100))\n",
    "    print(\"\\t - from accounts proportional to their flow \\\n",
    ": {}/{}, {:.2f}%\".format(sum(fraud_caught_count_2), sum(fraud_actual_count), (sum(fraud_caught_count_2)/sum(fraud_actual_count))*100))\n",
    "    print(\"\\t - uniformly at random: {}/{}, {:.2f}%\".format(fraud_caught_count_1, sum(fraud_actual_count), (fraud_caught_count_1/sum(fraud_actual_count))*100))\n",
    "    \n",
    "    #plt.bar(range(1, len(fraud_actual_count)+1), f*x)\n",
    "    plt.bar(range(1, len(fraud_actual_count)+1), fraud_actual_count, label= \"Total Frauds\")\n",
    "    plt.bar(range(1, len(fraud_actual_count)+1), fraud_caught_count, label = \"Caught Frauds by game strategy\")\n",
    "    plt.legend(fontsize = 20)\n",
    "    \n",
    "    \n",
    "    #return df_mirage[(df_mirage[\"Time_Step\"] >= start) & (df_mirage[\"Time_Step\"] <= end)]\n",
    "    \n"
   ]
  },
  {
   "cell_type": "code",
   "execution_count": 4,
   "metadata": {},
   "outputs": [
    {
     "data": {
      "application/vnd.jupyter.widget-view+json": {
       "model_id": "9ceba48d584548608d468584226d796d",
       "version_major": 2,
       "version_minor": 0
      },
      "text/plain": [
       "interactive(children=(Dropdown(description='Attacker Strategy:', options=('A', 'B', 'C', 'D'), style=Descripti…"
      ]
     },
     "metadata": {},
     "output_type": "display_data"
    },
    {
     "data": {
      "text/plain": [
       "<function __main__.get_dataframe(column, choice, C_defense, start, end)>"
      ]
     },
     "execution_count": 4,
     "metadata": {},
     "output_type": "execute_result"
    }
   ],
   "source": [
    "column_ = \"Time_Step\"\n",
    "style_ = {\"description_width\" : \"initial\" }\n",
    "choice_ = widgets.Dropdown(options=['A', 'B', 'C', 'D'], description='Attacker Strategy:', value='A', style = style_)\n",
    "C_defense_ = widgets.FloatSlider(min=0, max=1, step=0.05, value=0.05, description=\"Defender Capacity\", style = style_)\n",
    "start_ = widgets.IntSlider(min=1, max=101, step=1, value=1, description='Start Time Step:', style = style_)\n",
    "end_ = widgets.IntSlider(min=1, max=101, step=1, value=101, description='End Time Step', style = style_)\n",
    "\n",
    "interact(get_dataframe, column = fixed(column_), choice = choice_, C_defense = C_defense_, start = start_, end = end_ )"
   ]
  },
  {
   "cell_type": "code",
   "execution_count": null,
   "metadata": {
    "collapsed": true
   },
   "outputs": [],
   "source": []
  },
  {
   "cell_type": "code",
   "execution_count": null,
   "metadata": {
    "collapsed": true
   },
   "outputs": [],
   "source": []
  },
  {
   "cell_type": "code",
   "execution_count": null,
   "metadata": {
    "collapsed": true
   },
   "outputs": [],
   "source": []
  },
  {
   "cell_type": "code",
   "execution_count": null,
   "metadata": {
    "collapsed": true
   },
   "outputs": [],
   "source": []
  },
  {
   "cell_type": "code",
   "execution_count": null,
   "metadata": {
    "collapsed": true
   },
   "outputs": [],
   "source": []
  },
  {
   "cell_type": "code",
   "execution_count": null,
   "metadata": {
    "collapsed": true
   },
   "outputs": [],
   "source": []
  },
  {
   "cell_type": "code",
   "execution_count": null,
   "metadata": {
    "collapsed": true
   },
   "outputs": [],
   "source": []
  },
  {
   "cell_type": "code",
   "execution_count": null,
   "metadata": {
    "collapsed": true
   },
   "outputs": [],
   "source": []
  },
  {
   "cell_type": "code",
   "execution_count": null,
   "metadata": {
    "collapsed": true
   },
   "outputs": [],
   "source": []
  },
  {
   "cell_type": "code",
   "execution_count": null,
   "metadata": {
    "collapsed": true
   },
   "outputs": [],
   "source": []
  },
  {
   "cell_type": "code",
   "execution_count": null,
   "metadata": {
    "collapsed": true
   },
   "outputs": [],
   "source": []
  },
  {
   "cell_type": "code",
   "execution_count": null,
   "metadata": {
    "collapsed": true
   },
   "outputs": [],
   "source": []
  },
  {
   "cell_type": "markdown",
   "metadata": {},
   "source": [
    "#### Obsolete"
   ]
  },
  {
   "cell_type": "code",
   "execution_count": 222,
   "metadata": {},
   "outputs": [
    {
     "name": "stdout",
     "output_type": "stream",
     "text": [
      "Max timestep: 101\n",
      "\n",
      "\n",
      "Total no. of transactions: 131212\n",
      "No. of Fraud: 6198\n",
      "No. of Non Fraud: 125014\n"
     ]
    },
    {
     "data": {
      "image/png": "[encoded data removed]",
      "text/plain": [
       "<Figure size 432x288 with 1 Axes>"
      ]
     },
     "metadata": {},
     "output_type": "display_data"
    },
    {
     "name": "stdout",
     "output_type": "stream",
     "text": [
      "This is opposite to our assumption as our assumption dictates the attacker to attack nodes with high flows.\n",
      "Here the attacker is attacking nodes with low flows as well\n"
     ]
    }
   ],
   "source": [
    "df_mirage = pd.read_csv(\"mirage_data_10.csv\",header=0,skip_blank_lines=True, skipinitialspace=True)\n",
    "\n",
    "print(\"Max timestep:\",df_mirage[\"Time_Step\"].max())\n",
    "\n",
    "print(\"\\n\")\n",
    "print(\"Total no. of transactions:\", len(df_mirage))\n",
    "print(\"No. of Fraud:\", len(df_mirage[df_mirage[\"Label\"]==1]))\n",
    "print(\"No. of Non Fraud:\", len(df_mirage[df_mirage[\"Label\"]==0]))\n",
    "\n",
    "# plot the flow distribution\n",
    "c = [\"b\"] * len(df_mirage.groupby(\"Sender_Id\").groups.keys())\n",
    "for i in list(df_mirage[df_mirage[\"Label\"]==1].groupby(\"Sender_Id\").groups):\n",
    "    c[i-1] = 'r'\n",
    "df_mirage.groupby([\"Sender_Id\"]).size().to_frame('count').reset_index().plot.bar(x='Sender_Id', y='count', color=(0.1, 0.1, 0.1, 0.1), edgecolor=c)\n",
    "plt.title(\"Flow distribution\")\n",
    "plt.show()\n",
    "\n",
    "print(\"This is opposite to our assumption as our assumption dictates the attacker to attack nodes with high flows.\") \n",
    "print(\"Here the attacker is attacking nodes with low flows as well\")"
   ]
  },
  {
   "cell_type": "code",
   "execution_count": 246,
   "metadata": {},
   "outputs": [
    {
     "name": "stdout",
     "output_type": "stream",
     "text": [
      "Total no. of transactions: 23222\n",
      "\n",
      "\n",
      "No. of Fraud: 1830\n",
      "No. of Non Fraud: 21392\n"
     ]
    },
    {
     "data": {
      "image/png": "[encoded data removed]",
      "text/plain": [
       "<Figure size 432x288 with 1 Axes>"
      ]
     },
     "metadata": {},
     "output_type": "display_data"
    },
    {
     "name": "stdout",
     "output_type": "stream",
     "text": [
      "In the above plot, the red bars indicate accounts with fraudulent transactions\n",
      "Note: Not all of them are fraudulent\n",
      "\n",
      "\n"
     ]
    },
    {
     "data": {
      "image/png": "[encoded data removed]",
      "text/plain": [
       "<Figure size 432x288 with 1 Axes>"
      ]
     },
     "metadata": {},
     "output_type": "display_data"
    }
   ],
   "source": [
    "# group data into buckets of 10 timesteps \n",
    "df = df_mirage[(df_mirage[\"Time_Step\"] > 10) & (df_mirage[\"Time_Step\"] <= 20) ]\n",
    "\n",
    "print(\"Total no. of transactions:\", len(df))\n",
    "\n",
    "print(\"\\n\")\n",
    "print(\"No. of Fraud:\", len(df[df[\"Label\"] == 1]))\n",
    "print(\"No. of Non Fraud:\", len(df[df[\"Label\"] == 0]))\n",
    "\n",
    "\n",
    "c = [\"b\"] * len(df.groupby(\"Sender_Id\").groups.keys())\n",
    "for i in list(df[df[\"Label\"]==1].groupby(\"Sender_Id\").groups):\n",
    "    c[i-1] = 'r'\n",
    "    \n",
    "df_flow = df.groupby([\"Sender_Id\"]).size().to_frame('count').reset_index()\n",
    "df_flow.plot( x='Sender_Id', y='count', kind='bar', color = c)\n",
    "plt.title(\"Flow distribution\")\n",
    "plt.show()\n",
    "print(\"In the above plot, the red bars indicate accounts with fraudulent transactions\")\n",
    "print(\"Note: Not all of them are fraudulent\")\n",
    "\n",
    "# f is the flows which is outgoing edges for each client\n",
    "f = df_flow['count'].tolist()\n",
    "C_def = int(df_flow['count'].sum()*0.05)\n",
    "C_att = int(df_flow['count'].sum()*0.01)\n",
    "Eps = 10**-10\n",
    "\n",
    "\n",
    "x, y, U_def, U_att, mu = solve_game(f, C_def, C_att, Eps, verbose=False)\n",
    "\n",
    "fraud_actual_count = []\n",
    "fraud_caught_count = []\n",
    "for i in range(len(f)):\n",
    "    # All transactions for client i+1\n",
    "    df_sub = df[df[\"Sender_Id\"]==i+1]\n",
    "    # Randomly sample from all transactions for client i=1\n",
    "    df_inspect = df_sub.sample(n=int(round((f*x)[i])), random_state=7)\n",
    "    fraud_actual_count.append(len(df_sub[df_sub[\"Label\"]==1]))\n",
    "    fraud_caught_count.append(len(df_inspect[df_inspect[\"Label\"]==1]))\n",
    "    \n",
    "print(\"\\n\")\n",
    "plt.bar(range(1, len(fraud_actual_count)+1), fraud_actual_count)\n",
    "plt.bar(range(1, len(fraud_actual_count)+1), fraud_caught_count)\n",
    "plt.title(\"Fruad caught vs actual\")\n",
    "plt.show()"
   ]
  },
  {
   "cell_type": "code",
   "execution_count": 35,
   "metadata": {},
   "outputs": [
    {
     "name": "stdout",
     "output_type": "stream",
     "text": [
      "Case 2: pick n accounts at random to attack\n"
     ]
    },
    {
     "data": {
      "application/vnd.jupyter.widget-view+json": {
       "model_id": "bd0e5332c1424546a465e444634e97d1",
       "version_major": 2,
       "version_minor": 0
      },
      "text/plain": [
       "interactive(children=(Text(value='Time_Step', description='column'), FloatSlider(value=0.0, description='C_def…"
      ]
     },
     "metadata": {},
     "output_type": "display_data"
    }
   ],
   "source": [
    "df_mirage = pd.read_csv(\"mirage_data_10.csv\",header=0,skip_blank_lines=True, skipinitialspace=True)\n",
    "df_mirage['Label_new'] = 0\n",
    "\n",
    "random.seed(7)\n",
    "accounts_to_attack = []\n",
    "n = 10\n",
    "choice = 2\n",
    "\n",
    "if choice == 1:\n",
    "    print(\"Case 1: pick n accounts with highest flows to attack\")\n",
    "    accounts_to_attack = df_mirage.groupby([\"Sender_Id\"]).size().to_frame('count').reset_index().sort_values(\"count\", ascending=False)[\"Sender_Id\"].head(n).tolist()\n",
    "    df_mirage.loc[df_mirage[df_mirage[\"Sender_Id\"].isin(accounts_to_attack)].sample(len(df_mirage[df_mirage[\"Label\"]==1]), random_state=10).index.values, \"Label_new\"]=1\n",
    "elif choice == 2:\n",
    "    print(\"Case 2: pick n accounts at random to attack\")\n",
    "    for i in range(n):\n",
    "        accounts_to_attack.append(random.randint(1,30))\n",
    "    df_mirage.loc[df_mirage[df_mirage[\"Sender_Id\"].isin(accounts_to_attack)].sample(len(df_mirage[df_mirage[\"Label\"]==1]), random_state=10).index.values, \"Label_new\"]=1\n",
    "elif choice == 3:\n",
    "    print(\"Case 3: assign label randomly\")\n",
    "    df_mirage.loc[df_mirage.sample(len(df_mirage[df_mirage[\"Label\"]==1]), random_state=10).index.values, \"Label_new\"]=1\n",
    "elif choice == 4:\n",
    "    print(\"Case 4: Retaining original Label\")\n",
    "    df_mirage['Label_new'] = df_mirage['Label']\n",
    "    \n",
    "@interact\n",
    "def get_dataframe(column=\"Time_Step\", C_defense = (0, 1, 0.05), start = widgets.IntSlider(min=1, max=101, step=1, value=11), end = widgets.IntSlider(min=1, max=101, step=1, value=20)):\n",
    "    temp_df = df_mirage[(df_mirage[\"Time_Step\"] >= start) & (df_mirage[\"Time_Step\"] <= end) ] \n",
    "    \n",
    "    c = [\"b\"] * len(temp_df.groupby(\"Sender_Id\").groups.keys())\n",
    "    for i in list(temp_df[temp_df[\"Label_new\"]==1].groupby(\"Sender_Id\").groups):\n",
    "        c[i-1] = 'r'\n",
    "    temp_df_flow = temp_df.groupby([\"Sender_Id\"]).size().to_frame('count').reset_index()\n",
    "    plt.bar(temp_df_flow[\"Sender_Id\"].tolist(), temp_df_flow[\"count\"].tolist(), color=(0.1, 0.1, 0.1, 0.1), edgecolor=c)\n",
    "    #plt.figure(figsize=(10,10))\n",
    "    plt.title(\"Flow distribution\")\n",
    "    \n",
    "    # f is the flows which is outgoing edges for each client\n",
    "    f = temp_df_flow['count'].tolist()\n",
    "    C_def = int(temp_df_flow['count'].sum()*C_defense)\n",
    "    C_att = len(temp_df[temp_df[\"Label_new\"]==1])\n",
    "    \n",
    "    print(\"C defence: {}, C attack:{}\".format(C_def, C_att))\n",
    "    \n",
    "    Eps = 10**-10\n",
    "\n",
    "\n",
    "    x, y, U_def, U_att, mu = solve_game(f, C_def, C_att, Eps, verbose=False)\n",
    "    \n",
    "    print(\"Defender Strategy:\")\n",
    "    print(f*x)\n",
    "    \n",
    "    fraud_actual_count = []\n",
    "    fraud_caught_count = [] \n",
    "    \n",
    "    fraud_caught_count_2 = []# proportional sample random\n",
    "    \n",
    "    # Uniformly Sampling\n",
    "    df_inspect_1 = temp_df.sample(n=C_def, random_state=7)\n",
    "    fraud_caught_count_1 = len(df_inspect_1[df_inspect_1[\"Label_new\"]==1]) #uniformly random\n",
    "    \n",
    "    for i in range(len(f)):\n",
    "        # All transactions for client 1 to 30\n",
    "        df_sub = temp_df[temp_df[\"Sender_Id\"]==i+1]\n",
    "\n",
    "        # Randomly sample from all transactions for client i=1 to 30 as per x*f\n",
    "        df_inspect = df_sub.sample(n=int(round((f*x)[i])), random_state=7)\n",
    "        \n",
    "        # Proportional sampling\n",
    "        z = [int(np.floor((i / sum(f))*temp_df_flow['count'].sum()*C_defense)) for i in f]\n",
    "        #print(temp_df_flow['count'].sum()*C_defense)\n",
    "        #print(sum(z))\n",
    "        df_inspect_2 = df_sub.sample(n=z[i], random_state=7)\n",
    "        \n",
    "        \n",
    "        fraud_actual_count.append(len(df_sub[df_sub[\"Label_new\"]==1]))\n",
    "        fraud_caught_count.append(len(df_inspect[df_inspect[\"Label_new\"]==1]))\n",
    "        fraud_caught_count_2.append(len(df_inspect_2[df_inspect_2[\"Label_new\"]==1]))\n",
    "        \n",
    "    print(\"\\n\")\n",
    "    print(\"Fraud caught if we sample:\")\n",
    "    print(\"\\t -as per strategy generated by game: {}/{}, {:.2f}%\".format(sum(fraud_caught_count), sum(fraud_actual_count), (sum(fraud_caught_count)/sum(fraud_actual_count))*100))\n",
    "    print(\"\\t -uniformly from all transactions: {}/{}, {:.2f}%\".format(fraud_caught_count_1, sum(fraud_actual_count), (fraud_caught_count_1/sum(fraud_actual_count))*100))\n",
    "    print(\"\\t -proportional to client flows: {}/{}, {:.2f}%\".format(sum(fraud_caught_count_2), sum(fraud_actual_count), (sum(fraud_caught_count_2)/sum(fraud_actual_count))*100))\n",
    "    \n",
    "    #plt.bar(range(1, len(fraud_actual_count)+1), f*x)\n",
    "    plt.bar(range(1, len(fraud_actual_count)+1), fraud_actual_count)\n",
    "    plt.bar(range(1, len(fraud_actual_count)+1), fraud_caught_count)\n",
    "    \n",
    "    \n",
    "    return df_mirage[(df_mirage[\"Time_Step\"] >= start) & (df_mirage[\"Time_Step\"] <= end)]"
   ]
  },
  {
   "cell_type": "code",
   "execution_count": null,
   "metadata": {
    "collapsed": true
   },
   "outputs": [],
   "source": []
  }
 ],
 "metadata": {
  "kernelspec": {
   "display_name": "fraud_game",
   "language": "python",
   "name": "fraud_game"
  },
  "language_info": {
   "codemirror_mode": {
    "name": "ipython",
    "version": 3
   },
   "file_extension": ".py",
   "mimetype": "text/x-python",
   "name": "python",
   "nbconvert_exporter": "python",
   "pygments_lexer": "ipython3",
   "version": "3.6.10"
  }
 },
 "nbformat": 4,
 "nbformat_minor": 4
}
