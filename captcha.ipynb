{
 "cells": [
  {
   "cell_type": "code",
   "execution_count": 2,
   "id": "46531fb5-bcab-4b0b-896e-95bfee1f61c1",
   "metadata": {},
   "outputs": [],
   "source": [
    "import numpy as np\n",
    "import os\n",
    "import cv2\n",
    "import matplotlib.pyplot as plt\n",
    "import pandas as pd\n",
    "import string\n",
    "\n",
    "\n",
    "import torch\n",
    "import torch.nn as nn\n",
    "import torch.nn.functional as F\n",
    "import torch.optim as optim\n",
    "from torch.utils.data import Dataset\n",
    "from torch.utils.data import DataLoader\n",
    "from torch.utils.data.sampler import SubsetRandomSampler\n",
    "from torch.autograd import Variable\n",
    "\n",
    "\n",
    "from torchvision.io import read_image\n",
    "from torchvision import transforms\n",
    "from torchvision import models\n"
   ]
  },
  {
   "cell_type": "code",
   "execution_count": 3,
   "id": "cda27b16-738e-4cb0-be9a-87aef0ffe52d",
   "metadata": {},
   "outputs": [
    {
     "name": "stdout",
     "output_type": "stream",
     "text": [
      "Total no of images in dataset:\t 1070\n"
     ]
    }
   ],
   "source": [
    "src_dir = '/Users/suchetha/Downloads/samples'\n",
    "img_paths = [f for f in os.listdir(src_dir) if f.lower().endswith(('.png', '.jpg'))]\n",
    "print(\"Total no of images in dataset:\\t\", len(img_paths))"
   ]
  },
  {
   "cell_type": "code",
   "execution_count": 4,
   "id": "b12e7f1e-8e27-479f-93c8-eeb77af0c66a",
   "metadata": {},
   "outputs": [],
   "source": [
    "# labels_list = [img_path.split('.')[0] for img_path in img_paths]\n",
    "\n",
    "# # Get count of each unique char\n",
    "# char_counts = {}\n",
    "# for label in labels_list:\n",
    "#     for char in label:\n",
    "#         if char not in char_counts:\n",
    "#             char_counts[char] = 1\n",
    "#         else:\n",
    "#             char_counts[char] += 1\n",
    "            \n",
    "# # Sort by character\n",
    "# char_counts = sorted(char_counts.items())\n",
    "# print(char_counts)"
   ]
  },
  {
   "cell_type": "code",
   "execution_count": 5,
   "id": "23690038-cfff-498a-ac46-6bed1eac5e4e",
   "metadata": {},
   "outputs": [],
   "source": [
    "import warnings\n",
    "warnings.simplefilter(action='ignore', category=FutureWarning) # To supress futurewarning from pandas\n",
    "\n",
    "# Labels\n",
    "annotations_df = pd.DataFrame(columns=['image', 'label'])\n",
    "for image in img_paths:\n",
    "    annotations_df = annotations_df.append({\"image\": image, \"label\": image.split('.')[0]}, ignore_index=True)\n",
    "    \n",
    "annotations_df.to_csv(\"annotations_file.csv\")"
   ]
  },
  {
   "cell_type": "code",
   "execution_count": 6,
   "id": "9fdd8632-095a-4abf-a3dd-e29c155d6759",
   "metadata": {},
   "outputs": [],
   "source": [
    "encoding_dict = {}\n",
    "i = 0\n",
    "for character in string.ascii_letters.lower()[:26]:\n",
    "    encoding_dict[character] = i\n",
    "    i=i+1\n",
    "for num in [str(j) for j in range(10)]:\n",
    "    encoding_dict[num] = i\n",
    "    i=i+1\n",
    "    \n",
    "decoding_dict = {v: k for k, v in encoding_dict.items()}"
   ]
  },
  {
   "cell_type": "code",
   "execution_count": 7,
   "id": "a7db9570-4c25-4d9d-a535-980db4e34af6",
   "metadata": {},
   "outputs": [],
   "source": [
    "def decode_pred(model_out):\n",
    "    one = torch.argmax(model_out[:, 0:36], axis=1)\n",
    "    two = torch.argmax(model_out[:, 36:36*2], axis=1)\n",
    "    three = torch.argmax(model_out[:, 36*2:36*3], axis=1)\n",
    "    four = torch.argmax(model_out[:, 36*3:36*4], axis=1)\n",
    "    five = torch.argmax(model_out[:, 36*4:36*5], axis=1)\n",
    "    \n",
    "    prediction_values = torch.transpose(torch.vstack((one, two, three, four, five)),0,1).tolist()\n",
    "    \n",
    "    pred_val = []\n",
    "    for row in prediction_values:\n",
    "        pred_val_temp = []\n",
    "        for value in row:\n",
    "            pred_val_temp.append(decoding_dict[value])\n",
    "        pred_val.append(pred_val_temp)\n",
    "\n",
    "        \n",
    "    return pred_val"
   ]
  },
  {
   "cell_type": "code",
   "execution_count": 8,
   "id": "65bedede-86c4-4e81-89b0-0544ffb9941e",
   "metadata": {},
   "outputs": [],
   "source": [
    "def decode_truth(model_out):\n",
    "    one = labels[:, 0:36]\n",
    "    two = labels[:, 36:36*2]\n",
    "    three = labels[:, 36*2:36*3]\n",
    "    four = labels[:, 36*3:36*4]\n",
    "    five = labels[:, 36*4:36*5]\n",
    "\n",
    "    decoded_labels = []\n",
    "    for batch_ in range(len(one)):\n",
    "        decoded_ = []\n",
    "        decoded_.append(decoding_dict[(one[batch_] == 1).nonzero(as_tuple=True)[0].item()]) # get index of 1 \n",
    "        decoded_.append(decoding_dict[(two[batch_] == 1).nonzero(as_tuple=True)[0].item()])\n",
    "        decoded_.append(decoding_dict[(three[batch_] == 1).nonzero(as_tuple=True)[0].item()])\n",
    "        decoded_.append(decoding_dict[(four[batch_] == 1).nonzero(as_tuple=True)[0].item()])\n",
    "        decoded_.append(decoding_dict[(five[batch_] == 1).nonzero(as_tuple=True)[0].item()])\n",
    "        decoded_labels.append(decoded_)\n",
    "\n",
    "    return decoded_labels"
   ]
  },
  {
   "cell_type": "markdown",
   "id": "3b489e37-5a62-420d-971b-2aa239050e90",
   "metadata": {},
   "source": [
    "## Data Loader"
   ]
  },
  {
   "cell_type": "code",
   "execution_count": 9,
   "id": "dc89c7c1-9660-4e8f-8512-6e852dbb00e6",
   "metadata": {},
   "outputs": [],
   "source": [
    "class CaptchaDataset(Dataset):\n",
    "    def __init__(self,  img_dir, annotations_file, transform, encoding_dict):\n",
    "        self.img_dir = img_dir\n",
    "        self.encoding_dict = encoding_dict\n",
    "        self.img_labels = pd.read_csv(annotations_file)\n",
    "        self.transform=transform\n",
    "\n",
    "    def __getitem__(self, idx):\n",
    "        img_path = os.path.join(self.img_dir, self.img_labels.iloc[idx, 1])\n",
    "        image = read_image(img_path)\n",
    "        image = image[0:3, :, :] # reduce to 3 channel\n",
    "        # One hot encode the targets\n",
    "        # label = fncnb, ohc_label = matrix of dim (36, 5) \n",
    "        label = self.img_labels.iloc[idx, 2]\n",
    "        y = torch.zeros(36, 5)  \n",
    "        for i in range(len(label)):\n",
    "            \n",
    "            y[self.encoding_dict[label[i]], i] = 1\n",
    "        # y = torch.argmax(y, dim=0) #argmax along the column\n",
    "        # Flatten along the columns to retain the position information. -> 36*5 = 180\n",
    "        y = y.transpose(1, 0).flatten()\n",
    "        if self.transform:\n",
    "            image = self.transform(image)\n",
    "        return image, y\n",
    "        \n",
    "    def __len__(self):\n",
    "        return len(self.img_labels)"
   ]
  },
  {
   "cell_type": "code",
   "execution_count": 10,
   "id": "6e3e8e61-289a-4505-a849-986f8cc37c26",
   "metadata": {},
   "outputs": [],
   "source": [
    "img_dir = '/Users/suchetha/Downloads/Samples'\n",
    "annotations_file = '/Users/suchetha/annotations_file.csv'\n",
    "\n",
    "transform = transforms.Compose([transforms.ToPILImage(), transforms.ToTensor(), transforms.Normalize((0.5, 0.5, 0.5), (0.5, 0.5, 0.5))])\n",
    "captcha_dataset = CaptchaDataset(img_dir, annotations_file, transform=transform, encoding_dict=encoding_dict)"
   ]
  },
  {
   "cell_type": "code",
   "execution_count": 30,
   "id": "30ea6b7e-fa97-4ee1-9525-1596392b05ed",
   "metadata": {},
   "outputs": [
    {
     "name": "stdout",
     "output_type": "stream",
     "text": [
      "Feature batch shape: torch.Size([35, 3, 50, 200])\n",
      "Labels batch shape: torch.Size([35, 180])\n",
      "----------\n",
      "\n"
     ]
    },
    {
     "data": {
      "image/png": "[encoded data removed]",
      "text/plain": [
       "<Figure size 432x288 with 1 Axes>"
      ]
     },
     "metadata": {
      "needs_background": "light"
     },
     "output_type": "display_data"
    }
   ],
   "source": [
    "dataset_loader = torch.utils.data.DataLoader(captcha_dataset, batch_size = 35, shuffle = True, num_workers=0)\n",
    "\n",
    "features, labels = next(iter(dataset_loader))\n",
    "\n",
    "print(f\"Feature batch shape: {features.size()}\")\n",
    "print(f\"Labels batch shape: {labels.size()}\")\n",
    "print(\"----------\\n\")\n",
    "\n",
    "img = features[0].squeeze()\n",
    "label = labels[0]\n",
    "plt.imshow(transforms.ToPILImage()(img))\n",
    "plt.title(f\"Label: {label}\")\n",
    "plt.show()"
   ]
  },
  {
   "cell_type": "markdown",
   "id": "71e61e76-d47a-4ac2-a664-e474852ef833",
   "metadata": {},
   "source": [
    "## Train & Test data"
   ]
  },
  {
   "cell_type": "code",
   "execution_count": 148,
   "id": "4688c9e4-cebc-4abb-8318-a0916d85f334",
   "metadata": {},
   "outputs": [],
   "source": [
    "validation_split = 0.2\n",
    "shuffle_dataset = True\n",
    "random_seed = 7\n",
    "batch_size = 10\n",
    "\n",
    "dataset_size = len(captcha_dataset)\n",
    "indices = list(range(dataset_size))\n",
    "split = int(np.floor(validation_split * dataset_size))\n",
    "if shuffle_dataset :\n",
    "    np.random.seed(random_seed)\n",
    "    np.random.shuffle(indices)\n",
    "train_indices, val_indices = indices[split:], indices[:split]\n",
    "\n",
    "train_sampler = SubsetRandomSampler(train_indices)\n",
    "valid_sampler = SubsetRandomSampler(val_indices)\n",
    "\n",
    "train_loader = torch.utils.data.DataLoader(captcha_dataset, batch_size=batch_size, sampler=train_sampler)\n",
    "validation_loader = torch.utils.data.DataLoader(captcha_dataset, batch_size=batch_size, sampler=valid_sampler)"
   ]
  },
  {
   "cell_type": "code",
   "execution_count": 143,
   "id": "723d7f8e-738f-4304-b2a7-6539d554b5c0",
   "metadata": {},
   "outputs": [
    {
     "data": {
      "text/plain": [
       "856"
      ]
     },
     "execution_count": 143,
     "metadata": {},
     "output_type": "execute_result"
    }
   ],
   "source": [
    "len(train_indices)"
   ]
  },
  {
   "cell_type": "markdown",
   "id": "e1447f26-6c3d-4752-bdc0-0d66bd778d07",
   "metadata": {},
   "source": [
    "## Network"
   ]
  },
  {
   "cell_type": "markdown",
   "id": "004000a9-fb31-4e65-aa97-038a38a74401",
   "metadata": {},
   "source": [
    "### Simple Net"
   ]
  },
  {
   "cell_type": "code",
   "execution_count": 149,
   "id": "d4bf22bc-6b06-4363-8c46-64bcf3c203b0",
   "metadata": {},
   "outputs": [],
   "source": [
    "class Net(nn.Module):\n",
    "    def __init__(self):\n",
    "        super(Net, self).__init__()\n",
    "        self.conv1 = nn.Conv2d(3, 6, 3)\n",
    "        self.pool = nn.MaxPool2d(2, 2)\n",
    "        self.conv2 = nn.Conv2d(6, 16, 3)\n",
    "        self.conv3 = nn.Conv2d(16, 26, 3)\n",
    "        self.fc1 = nn.Linear(26 * 4 * 23, 960)\n",
    "        self.fc2 = nn.Linear(960, 180)\n",
    "        # self.fc3 = nn.Linear(240, 180)\n",
    "\n",
    "    def forward(self, x):\n",
    "        # print(\"x\", x.size()) # [50, 3, 50, 200]\n",
    "            \n",
    "        x = self.pool(F.relu(self.conv1(x)))\n",
    "        # print(\"x\", x.size()) # [50, 6, 23, 98]\n",
    "            \n",
    "        x = self.pool(F.relu(self.conv2(x)))\n",
    "        # print(\"x\", x.size()) # [50, 16, 9, 47]\n",
    "        \n",
    "        x = self.pool(F.relu(self.conv3(x)))\n",
    "        # print(\"x\", x.size()) # [50, 26, 2, 21]\n",
    "            \n",
    "        x = x.view(-1, 26 * 4 * 23)\n",
    "        # print(\"x\", x.size())\n",
    "        \n",
    "        x = F.relu(self.fc1(x))\n",
    "        # print(\"x\", x.size())\n",
    "        \n",
    "        # x = F.relu(self.fc2(x))\n",
    "        # print(\"x\", x.size())\n",
    "        \n",
    "        x = self.fc2(x)\n",
    "        \n",
    "        # print(\"x\", x.size())\n",
    "        # print(\"----------\")\n",
    "        return x\n",
    "\n",
    "\n",
    "net = Net()\n",
    "criterion = nn.CrossEntropyLoss()\n",
    "optimizer = optim.Adam(net.parameters(), lr=0.001, weight_decay=0.0001)"
   ]
  },
  {
   "cell_type": "markdown",
   "id": "eeaeeea8-0f61-4731-8975-95cadd334272",
   "metadata": {},
   "source": [
    "## Training"
   ]
  },
  {
   "cell_type": "code",
   "execution_count": 153,
   "id": "eb41cc01-4b69-4e21-9895-2d5289cab59b",
   "metadata": {},
   "outputs": [],
   "source": [
    "for epoch in range(200):  \n",
    "    total_train = 0\n",
    "    correct_train = 0\n",
    "    for batch_idx, data in enumerate(train_loader, 0):\n",
    "        # get the inputs\n",
    "        inputs, labels = data\n",
    "        # wrap them in Variable\n",
    "        inputs, labels = Variable(inputs), Variable(labels)\n",
    "        \n",
    "        # zero the parameter gradients\n",
    "        optimizer.zero_grad()\n",
    "\n",
    "        # forward + backward + optimize\n",
    "        outputs = net(inputs)\n",
    "        \n",
    "        loss = criterion(outputs, labels)\n",
    "        loss.backward()\n",
    "        optimizer.step()\n",
    "        \n",
    "        with torch.no_grad():\n",
    "            labels_decoded_train = decode_truth(labels)\n",
    "            output_decoded_train = decode_pred(outputs) \n",
    "            for i in range(len(labels_decoded_train)):\n",
    "                truth_train = ''.join(labels_decoded_train[i])\n",
    "                pred_train = ''.join(output_decoded_train[i])\n",
    "                # print(\"Pred: \", pred_train, \", Truth:\", truth_train)\n",
    "                if truth_train==pred_train:\n",
    "                    correct_train += 1\n",
    "        total_train += labels.size(0)\n",
    "        \n",
    "    #     print('eopch:', epoch+1, 'batch_idx:', batch_idx+1, 'loss:', loss.item())\n",
    "    # print('epoch:', epoch+1, 'Accuracy:', (correct_train/total_train)*100)\n",
    "    # print('--------------------')\n",
    "        \n"
   ]
  },
  {
   "cell_type": "code",
   "execution_count": 129,
   "id": "ae533c28-0a2a-463e-b1b8-575a06e1bce1",
   "metadata": {},
   "outputs": [
    {
     "name": "stdout",
     "output_type": "stream",
     "text": [
      "epoch: 100 Accuracy: 100.0\n"
     ]
    }
   ],
   "source": [
    "print('epoch:', epoch+1, 'Accuracy:', (correct_train/total_train)*100)"
   ]
  },
  {
   "cell_type": "code",
   "execution_count": 158,
   "id": "c8367ff3-d67d-4e25-a393-f30ff656c543",
   "metadata": {},
   "outputs": [],
   "source": [
    "## Save the model\n",
    "torch.save(net.state_dict(), 'captcha_model_67.pth')"
   ]
  },
  {
   "cell_type": "markdown",
   "id": "2a222930-2016-43f8-94ca-1ba5313f3881",
   "metadata": {},
   "source": [
    "## Test"
   ]
  },
  {
   "cell_type": "code",
   "execution_count": 154,
   "id": "b8afece8-e456-4e31-89d9-2f89948d53bb",
   "metadata": {},
   "outputs": [],
   "source": [
    "correct = 0\n",
    "total = 0\n",
    "i1 = 0\n",
    "\n",
    "net.eval()\n",
    "correct = 0\n",
    "l = []\n",
    "with torch.no_grad():\n",
    "    for data in validation_loader:\n",
    "        i1 += 1\n",
    "        images, labels = data\n",
    "        outputs = net(Variable(images))\n",
    "        labels_decoded = decode_truth(labels)\n",
    "        outputs_decoded = decode_pred(outputs)  \n",
    "        for i in range(len(labels_decoded)):\n",
    "            truth = ''.join(labels_decoded[i])\n",
    "            pred = ''.join(outputs_decoded[i])\n",
    "            # print(\"Pred: \", pred, \", Truth:\", truth)\n",
    "            if truth==pred:\n",
    "                correct += 1\n",
    "        total += labels.size(0)\n",
    "    # if i1 == 1:\n",
    "    #     break"
   ]
  },
  {
   "cell_type": "code",
   "execution_count": 155,
   "id": "d81d1c42-5882-4a1a-843f-412acd046e2b",
   "metadata": {},
   "outputs": [
    {
     "name": "stdout",
     "output_type": "stream",
     "text": [
      "67.7570093457944\n"
     ]
    }
   ],
   "source": [
    "print((correct/total)*100)"
   ]
  }
 ],
 "metadata": {
  "kernelspec": {
   "display_name": "Python 3 (ipykernel)",
   "language": "python",
   "name": "python3"
  },
  "language_info": {
   "codemirror_mode": {
    "name": "ipython",
    "version": 3
   },
   "file_extension": ".py",
   "mimetype": "text/x-python",
   "name": "python",
   "nbconvert_exporter": "python",
   "pygments_lexer": "ipython3",
   "version": "3.8.9"
  }
 },
 "nbformat": 4,
 "nbformat_minor": 5
}
